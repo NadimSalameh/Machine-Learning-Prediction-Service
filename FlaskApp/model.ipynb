{
 "cells": [
  {
   "cell_type": "code",
   "execution_count": 82,
   "metadata": {},
   "outputs": [],
   "source": [
    "import pandas as pd\n",
    "import numpy as np\n",
    "import matplotlib.pyplot as plt \n",
    "import seaborn as sns\n",
    "%matplotlib inline\n",
    "from sklearn.metrics import classification_report, confusion_matrix\n",
    "from sklearn.ensemble import RandomForestClassifier\n",
    "from sklearn.model_selection import train_test_split\n",
    "from sklearn.compose import ColumnTransformer\n",
    "from sklearn.impute import SimpleImputer\n",
    "from sklearn.preprocessing import MinMaxScaler\n",
    "from sklearn.pipeline import Pipeline\n",
    "import warnings\n",
    "warnings.filterwarnings('ignore')"
   ]
  },
  {
   "cell_type": "code",
   "execution_count": 2,
   "metadata": {},
   "outputs": [],
   "source": [
    "data =pd.read_csv('Skydata_pro.csv')"
   ]
  },
  {
   "cell_type": "markdown",
   "metadata": {},
   "source": [
    "* import required Libraries"
   ]
  },
  {
   "cell_type": "code",
   "execution_count": 3,
   "metadata": {},
   "outputs": [
    {
     "data": {
      "text/html": [
       "<div>\n",
       "<style scoped>\n",
       "    .dataframe tbody tr th:only-of-type {\n",
       "        vertical-align: middle;\n",
       "    }\n",
       "\n",
       "    .dataframe tbody tr th {\n",
       "        vertical-align: top;\n",
       "    }\n",
       "\n",
       "    .dataframe thead th {\n",
       "        text-align: right;\n",
       "    }\n",
       "</style>\n",
       "<table border=\"1\" class=\"dataframe\">\n",
       "  <thead>\n",
       "    <tr style=\"text-align: right;\">\n",
       "      <th></th>\n",
       "      <th>objid</th>\n",
       "      <th>ra</th>\n",
       "      <th>dec</th>\n",
       "      <th>u</th>\n",
       "      <th>g</th>\n",
       "      <th>r</th>\n",
       "      <th>i</th>\n",
       "      <th>z</th>\n",
       "      <th>run</th>\n",
       "      <th>rerun</th>\n",
       "      <th>camcol</th>\n",
       "      <th>field</th>\n",
       "      <th>specobjid</th>\n",
       "      <th>class</th>\n",
       "      <th>redshift</th>\n",
       "      <th>plate</th>\n",
       "      <th>mjd</th>\n",
       "      <th>fiberid</th>\n",
       "    </tr>\n",
       "  </thead>\n",
       "  <tbody>\n",
       "    <tr>\n",
       "      <th>0</th>\n",
       "      <td>1.237658e+18</td>\n",
       "      <td>122.472536</td>\n",
       "      <td>29.477546</td>\n",
       "      <td>18.80104</td>\n",
       "      <td>18.79409</td>\n",
       "      <td>19.17904</td>\n",
       "      <td>19.46893</td>\n",
       "      <td>19.62121</td>\n",
       "      <td>2830.0</td>\n",
       "      <td>301.0</td>\n",
       "      <td>1.0</td>\n",
       "      <td>82.0</td>\n",
       "      <td>5.011614e+18</td>\n",
       "      <td>STAR</td>\n",
       "      <td>0.000113</td>\n",
       "      <td>4451.0</td>\n",
       "      <td>55537.0</td>\n",
       "      <td>848.0</td>\n",
       "    </tr>\n",
       "    <tr>\n",
       "      <th>1</th>\n",
       "      <td>1.237661e+18</td>\n",
       "      <td>157.220491</td>\n",
       "      <td>38.044462</td>\n",
       "      <td>19.21634</td>\n",
       "      <td>17.36450</td>\n",
       "      <td>16.39222</td>\n",
       "      <td>15.96160</td>\n",
       "      <td>15.62490</td>\n",
       "      <td>3647.0</td>\n",
       "      <td>301.0</td>\n",
       "      <td>1.0</td>\n",
       "      <td>123.0</td>\n",
       "      <td>1.607801e+18</td>\n",
       "      <td>GALAXY</td>\n",
       "      <td>0.107083</td>\n",
       "      <td>1428.0</td>\n",
       "      <td>52998.0</td>\n",
       "      <td>56.0</td>\n",
       "    </tr>\n",
       "    <tr>\n",
       "      <th>2</th>\n",
       "      <td>1.237665e+18</td>\n",
       "      <td>128.426499</td>\n",
       "      <td>22.244187</td>\n",
       "      <td>17.58285</td>\n",
       "      <td>16.66683</td>\n",
       "      <td>16.37511</td>\n",
       "      <td>16.23573</td>\n",
       "      <td>16.03283</td>\n",
       "      <td>4517.0</td>\n",
       "      <td>301.0</td>\n",
       "      <td>2.0</td>\n",
       "      <td>113.0</td>\n",
       "      <td>2.171901e+18</td>\n",
       "      <td>GALAXY</td>\n",
       "      <td>0.024777</td>\n",
       "      <td>1929.0</td>\n",
       "      <td>53349.0</td>\n",
       "      <td>144.0</td>\n",
       "    </tr>\n",
       "    <tr>\n",
       "      <th>3</th>\n",
       "      <td>1.237655e+18</td>\n",
       "      <td>148.311910</td>\n",
       "      <td>3.603649</td>\n",
       "      <td>19.49339</td>\n",
       "      <td>18.02611</td>\n",
       "      <td>17.21924</td>\n",
       "      <td>16.73868</td>\n",
       "      <td>16.43414</td>\n",
       "      <td>2125.0</td>\n",
       "      <td>301.0</td>\n",
       "      <td>3.0</td>\n",
       "      <td>197.0</td>\n",
       "      <td>6.429279e+17</td>\n",
       "      <td>GALAXY</td>\n",
       "      <td>0.091564</td>\n",
       "      <td>571.0</td>\n",
       "      <td>52286.0</td>\n",
       "      <td>142.0</td>\n",
       "    </tr>\n",
       "    <tr>\n",
       "      <th>4</th>\n",
       "      <td>1.237649e+18</td>\n",
       "      <td>188.615906</td>\n",
       "      <td>0.966501</td>\n",
       "      <td>19.11787</td>\n",
       "      <td>18.80892</td>\n",
       "      <td>18.65386</td>\n",
       "      <td>18.43037</td>\n",
       "      <td>18.44886</td>\n",
       "      <td>752.0</td>\n",
       "      <td>301.0</td>\n",
       "      <td>6.0</td>\n",
       "      <td>301.0</td>\n",
       "      <td>3.266113e+17</td>\n",
       "      <td>QSO</td>\n",
       "      <td>1.528742</td>\n",
       "      <td>290.0</td>\n",
       "      <td>51941.0</td>\n",
       "      <td>365.0</td>\n",
       "    </tr>\n",
       "  </tbody>\n",
       "</table>\n",
       "</div>"
      ],
      "text/plain": [
       "          objid          ra        dec         u         g         r  \\\n",
       "0  1.237658e+18  122.472536  29.477546  18.80104  18.79409  19.17904   \n",
       "1  1.237661e+18  157.220491  38.044462  19.21634  17.36450  16.39222   \n",
       "2  1.237665e+18  128.426499  22.244187  17.58285  16.66683  16.37511   \n",
       "3  1.237655e+18  148.311910   3.603649  19.49339  18.02611  17.21924   \n",
       "4  1.237649e+18  188.615906   0.966501  19.11787  18.80892  18.65386   \n",
       "\n",
       "          i         z     run  rerun  camcol  field     specobjid   class  \\\n",
       "0  19.46893  19.62121  2830.0  301.0     1.0   82.0  5.011614e+18    STAR   \n",
       "1  15.96160  15.62490  3647.0  301.0     1.0  123.0  1.607801e+18  GALAXY   \n",
       "2  16.23573  16.03283  4517.0  301.0     2.0  113.0  2.171901e+18  GALAXY   \n",
       "3  16.73868  16.43414  2125.0  301.0     3.0  197.0  6.429279e+17  GALAXY   \n",
       "4  18.43037  18.44886   752.0  301.0     6.0  301.0  3.266113e+17     QSO   \n",
       "\n",
       "   redshift   plate      mjd  fiberid  \n",
       "0  0.000113  4451.0  55537.0    848.0  \n",
       "1  0.107083  1428.0  52998.0     56.0  \n",
       "2  0.024777  1929.0  53349.0    144.0  \n",
       "3  0.091564   571.0  52286.0    142.0  \n",
       "4  1.528742   290.0  51941.0    365.0  "
      ]
     },
     "execution_count": 3,
     "metadata": {},
     "output_type": "execute_result"
    }
   ],
   "source": [
    "data.head()"
   ]
  },
  {
   "cell_type": "markdown",
   "metadata": {},
   "source": [
    "* Exploratory Data Analysis"
   ]
  },
  {
   "cell_type": "code",
   "execution_count": 4,
   "metadata": {},
   "outputs": [
    {
     "name": "stdout",
     "output_type": "stream",
     "text": [
      "<class 'pandas.core.frame.DataFrame'>\n",
      "RangeIndex: 105000 entries, 0 to 104999\n",
      "Data columns (total 18 columns):\n",
      " #   Column     Non-Null Count   Dtype  \n",
      "---  ------     --------------   -----  \n",
      " 0   objid      104529 non-null  float64\n",
      " 1   ra         104497 non-null  float64\n",
      " 2   dec        104486 non-null  float64\n",
      " 3   u          104547 non-null  float64\n",
      " 4   g          104502 non-null  float64\n",
      " 5   r          104464 non-null  float64\n",
      " 6   i          104494 non-null  float64\n",
      " 7   z          104482 non-null  float64\n",
      " 8   run        104492 non-null  float64\n",
      " 9   rerun      104461 non-null  float64\n",
      " 10  camcol     104504 non-null  float64\n",
      " 11  field      104524 non-null  float64\n",
      " 12  specobjid  104502 non-null  float64\n",
      " 13  class      105000 non-null  object \n",
      " 14  redshift   104483 non-null  float64\n",
      " 15  plate      104490 non-null  float64\n",
      " 16  mjd        104497 non-null  float64\n",
      " 17  fiberid    104483 non-null  float64\n",
      "dtypes: float64(17), object(1)\n",
      "memory usage: 14.4+ MB\n"
     ]
    }
   ],
   "source": [
    "# In Sky data we have 18 cloumns and 105000 rows\n",
    "data.info()"
   ]
  },
  {
   "cell_type": "code",
   "execution_count": 5,
   "metadata": {},
   "outputs": [
    {
     "data": {
      "text/html": [
       "<div>\n",
       "<style scoped>\n",
       "    .dataframe tbody tr th:only-of-type {\n",
       "        vertical-align: middle;\n",
       "    }\n",
       "\n",
       "    .dataframe tbody tr th {\n",
       "        vertical-align: top;\n",
       "    }\n",
       "\n",
       "    .dataframe thead th {\n",
       "        text-align: right;\n",
       "    }\n",
       "</style>\n",
       "<table border=\"1\" class=\"dataframe\">\n",
       "  <thead>\n",
       "    <tr style=\"text-align: right;\">\n",
       "      <th></th>\n",
       "      <th>objid</th>\n",
       "      <th>ra</th>\n",
       "      <th>dec</th>\n",
       "      <th>u</th>\n",
       "      <th>g</th>\n",
       "      <th>r</th>\n",
       "      <th>i</th>\n",
       "      <th>z</th>\n",
       "      <th>run</th>\n",
       "      <th>rerun</th>\n",
       "      <th>camcol</th>\n",
       "      <th>field</th>\n",
       "      <th>specobjid</th>\n",
       "      <th>redshift</th>\n",
       "      <th>plate</th>\n",
       "      <th>mjd</th>\n",
       "      <th>fiberid</th>\n",
       "    </tr>\n",
       "  </thead>\n",
       "  <tbody>\n",
       "    <tr>\n",
       "      <th>count</th>\n",
       "      <td>1.045290e+05</td>\n",
       "      <td>104497.000000</td>\n",
       "      <td>104486.000000</td>\n",
       "      <td>104547.000000</td>\n",
       "      <td>104502.000000</td>\n",
       "      <td>104464.000000</td>\n",
       "      <td>104494.000000</td>\n",
       "      <td>104482.000000</td>\n",
       "      <td>104492.000000</td>\n",
       "      <td>104461.0</td>\n",
       "      <td>104504.000000</td>\n",
       "      <td>104524.000000</td>\n",
       "      <td>1.045020e+05</td>\n",
       "      <td>104483.000000</td>\n",
       "      <td>104490.000000</td>\n",
       "      <td>104497.000000</td>\n",
       "      <td>104483.000000</td>\n",
       "    </tr>\n",
       "    <tr>\n",
       "      <th>mean</th>\n",
       "      <td>1.237663e+18</td>\n",
       "      <td>177.363628</td>\n",
       "      <td>25.077019</td>\n",
       "      <td>18.646125</td>\n",
       "      <td>17.446461</td>\n",
       "      <td>16.933422</td>\n",
       "      <td>16.682464</td>\n",
       "      <td>16.527226</td>\n",
       "      <td>3987.288836</td>\n",
       "      <td>301.0</td>\n",
       "      <td>3.274353</td>\n",
       "      <td>187.085808</td>\n",
       "      <td>2.968232e+18</td>\n",
       "      <td>0.202460</td>\n",
       "      <td>2636.854560</td>\n",
       "      <td>53943.284908</td>\n",
       "      <td>343.309629</td>\n",
       "    </tr>\n",
       "    <tr>\n",
       "      <th>std</th>\n",
       "      <td>7.297187e+12</td>\n",
       "      <td>78.323752</td>\n",
       "      <td>20.549558</td>\n",
       "      <td>0.828695</td>\n",
       "      <td>1.003252</td>\n",
       "      <td>1.158455</td>\n",
       "      <td>1.236730</td>\n",
       "      <td>1.308751</td>\n",
       "      <td>1698.666908</td>\n",
       "      <td>0.0</td>\n",
       "      <td>1.620961</td>\n",
       "      <td>140.884349</td>\n",
       "      <td>2.552332e+18</td>\n",
       "      <td>0.484099</td>\n",
       "      <td>2268.470352</td>\n",
       "      <td>1575.078088</td>\n",
       "      <td>218.462647</td>\n",
       "    </tr>\n",
       "    <tr>\n",
       "      <th>min</th>\n",
       "      <td>1.237646e+18</td>\n",
       "      <td>0.013061</td>\n",
       "      <td>-19.495456</td>\n",
       "      <td>10.611810</td>\n",
       "      <td>9.668339</td>\n",
       "      <td>9.005167</td>\n",
       "      <td>8.848403</td>\n",
       "      <td>8.947795</td>\n",
       "      <td>109.000000</td>\n",
       "      <td>301.0</td>\n",
       "      <td>1.000000</td>\n",
       "      <td>11.000000</td>\n",
       "      <td>2.994897e+17</td>\n",
       "      <td>-0.004136</td>\n",
       "      <td>266.000000</td>\n",
       "      <td>51608.000000</td>\n",
       "      <td>1.000000</td>\n",
       "    </tr>\n",
       "    <tr>\n",
       "      <th>25%</th>\n",
       "      <td>1.237658e+18</td>\n",
       "      <td>136.207329</td>\n",
       "      <td>6.796899</td>\n",
       "      <td>18.226545</td>\n",
       "      <td>16.876755</td>\n",
       "      <td>16.220455</td>\n",
       "      <td>15.889685</td>\n",
       "      <td>15.648400</td>\n",
       "      <td>2826.000000</td>\n",
       "      <td>301.0</td>\n",
       "      <td>2.000000</td>\n",
       "      <td>85.000000</td>\n",
       "      <td>1.339867e+18</td>\n",
       "      <td>0.000007</td>\n",
       "      <td>1190.000000</td>\n",
       "      <td>52734.000000</td>\n",
       "      <td>161.000000</td>\n",
       "    </tr>\n",
       "    <tr>\n",
       "      <th>50%</th>\n",
       "      <td>1.237662e+18</td>\n",
       "      <td>180.315466</td>\n",
       "      <td>23.976166</td>\n",
       "      <td>18.881530</td>\n",
       "      <td>17.543095</td>\n",
       "      <td>16.934460</td>\n",
       "      <td>16.646070</td>\n",
       "      <td>16.479285</td>\n",
       "      <td>3903.000000</td>\n",
       "      <td>301.0</td>\n",
       "      <td>3.000000</td>\n",
       "      <td>153.000000</td>\n",
       "      <td>2.367808e+18</td>\n",
       "      <td>0.048396</td>\n",
       "      <td>2103.000000</td>\n",
       "      <td>53734.000000</td>\n",
       "      <td>328.000000</td>\n",
       "    </tr>\n",
       "    <tr>\n",
       "      <th>75%</th>\n",
       "      <td>1.237667e+18</td>\n",
       "      <td>224.385600</td>\n",
       "      <td>40.356285</td>\n",
       "      <td>19.278400</td>\n",
       "      <td>18.099840</td>\n",
       "      <td>17.648455</td>\n",
       "      <td>17.416190</td>\n",
       "      <td>17.320373</td>\n",
       "      <td>5061.000000</td>\n",
       "      <td>301.0</td>\n",
       "      <td>5.000000</td>\n",
       "      <td>249.000000</td>\n",
       "      <td>3.309106e+18</td>\n",
       "      <td>0.101922</td>\n",
       "      <td>2939.000000</td>\n",
       "      <td>54613.000000</td>\n",
       "      <td>504.000000</td>\n",
       "    </tr>\n",
       "    <tr>\n",
       "      <th>max</th>\n",
       "      <td>1.237681e+18</td>\n",
       "      <td>359.999615</td>\n",
       "      <td>84.490494</td>\n",
       "      <td>19.599950</td>\n",
       "      <td>19.996050</td>\n",
       "      <td>31.990100</td>\n",
       "      <td>32.141470</td>\n",
       "      <td>29.383740</td>\n",
       "      <td>8162.000000</td>\n",
       "      <td>301.0</td>\n",
       "      <td>6.000000</td>\n",
       "      <td>982.000000</td>\n",
       "      <td>1.317645e+19</td>\n",
       "      <td>7.011245</td>\n",
       "      <td>11703.000000</td>\n",
       "      <td>58543.000000</td>\n",
       "      <td>1000.000000</td>\n",
       "    </tr>\n",
       "  </tbody>\n",
       "</table>\n",
       "</div>"
      ],
      "text/plain": [
       "              objid             ra            dec              u  \\\n",
       "count  1.045290e+05  104497.000000  104486.000000  104547.000000   \n",
       "mean   1.237663e+18     177.363628      25.077019      18.646125   \n",
       "std    7.297187e+12      78.323752      20.549558       0.828695   \n",
       "min    1.237646e+18       0.013061     -19.495456      10.611810   \n",
       "25%    1.237658e+18     136.207329       6.796899      18.226545   \n",
       "50%    1.237662e+18     180.315466      23.976166      18.881530   \n",
       "75%    1.237667e+18     224.385600      40.356285      19.278400   \n",
       "max    1.237681e+18     359.999615      84.490494      19.599950   \n",
       "\n",
       "                   g              r              i              z  \\\n",
       "count  104502.000000  104464.000000  104494.000000  104482.000000   \n",
       "mean       17.446461      16.933422      16.682464      16.527226   \n",
       "std         1.003252       1.158455       1.236730       1.308751   \n",
       "min         9.668339       9.005167       8.848403       8.947795   \n",
       "25%        16.876755      16.220455      15.889685      15.648400   \n",
       "50%        17.543095      16.934460      16.646070      16.479285   \n",
       "75%        18.099840      17.648455      17.416190      17.320373   \n",
       "max        19.996050      31.990100      32.141470      29.383740   \n",
       "\n",
       "                 run     rerun         camcol          field     specobjid  \\\n",
       "count  104492.000000  104461.0  104504.000000  104524.000000  1.045020e+05   \n",
       "mean     3987.288836     301.0       3.274353     187.085808  2.968232e+18   \n",
       "std      1698.666908       0.0       1.620961     140.884349  2.552332e+18   \n",
       "min       109.000000     301.0       1.000000      11.000000  2.994897e+17   \n",
       "25%      2826.000000     301.0       2.000000      85.000000  1.339867e+18   \n",
       "50%      3903.000000     301.0       3.000000     153.000000  2.367808e+18   \n",
       "75%      5061.000000     301.0       5.000000     249.000000  3.309106e+18   \n",
       "max      8162.000000     301.0       6.000000     982.000000  1.317645e+19   \n",
       "\n",
       "            redshift          plate            mjd        fiberid  \n",
       "count  104483.000000  104490.000000  104497.000000  104483.000000  \n",
       "mean        0.202460    2636.854560   53943.284908     343.309629  \n",
       "std         0.484099    2268.470352    1575.078088     218.462647  \n",
       "min        -0.004136     266.000000   51608.000000       1.000000  \n",
       "25%         0.000007    1190.000000   52734.000000     161.000000  \n",
       "50%         0.048396    2103.000000   53734.000000     328.000000  \n",
       "75%         0.101922    2939.000000   54613.000000     504.000000  \n",
       "max         7.011245   11703.000000   58543.000000    1000.000000  "
      ]
     },
     "execution_count": 5,
     "metadata": {},
     "output_type": "execute_result"
    }
   ],
   "source": [
    "data.describe()"
   ]
  },
  {
   "cell_type": "code",
   "execution_count": 6,
   "metadata": {},
   "outputs": [
    {
     "data": {
      "text/plain": [
       "GALAXY    51323\n",
       "STAR      39296\n",
       "QSO       14381\n",
       "Name: class, dtype: int64"
      ]
     },
     "execution_count": 6,
     "metadata": {},
     "output_type": "execute_result"
    }
   ],
   "source": [
    "data['class'].value_counts()"
   ]
  },
  {
   "cell_type": "markdown",
   "metadata": {},
   "source": [
    "*Variables description:*\n",
    "\n",
    "objid = Object Identifier\n",
    "\n",
    "ra = J2000 Right Ascension (r-band)\n",
    "\n",
    "dec = J2000 Declination (r-band)\n",
    "\n",
    "u = better of deV/Exp magnitude fit (u-band)\n",
    "\n",
    "g = better of deV/Exp magnitude fit (g-band)\n",
    "\n",
    "r = better of deV/Exp magnitude fit (r-band)\n",
    "\n",
    "i = better of deV/Exp magnitude fit (i-band)\n",
    "\n",
    "z = better of deV/Exp magnitude fit (z-band)\n",
    "\n",
    "run = Run Number\n",
    "\n",
    "rerun = Rerun Number\n",
    "\n",
    "camcol = Camera column\n",
    "\n",
    "field = Field number\n",
    "\n",
    "specobjid = Object Identifier\n",
    "\n",
    "redshift = Final Redshift\n",
    "\n",
    "plate = plate number\n",
    "\n",
    "mjd = MJD of observation\n",
    "\n",
    "fiberid = fiberID\n",
    "\n",
    "class = object class (galaxy, star, qos [Quasi-Stellar Objects])"
   ]
  },
  {
   "cell_type": "markdown",
   "metadata": {},
   "source": [
    " *Our target column is *Class* that contain three values : *GALAXY* , *STAR* , *QOS*.*\n",
    "\n",
    " * We need to select features that are probably not going to be indentified with the target variable *Class* "
   ]
  },
  {
   "cell_type": "markdown",
   "metadata": {},
   "source": [
    "        -objid,specobjid and fiberid are only representing the IDs.Along these lines we won't need them for classification as they are not identified with the result."
   ]
  },
  {
   "cell_type": "markdown",
   "metadata": {},
   "source": [
    "       - Significantly more: The features 'run', 'rerun', 'camcol' and 'field' are values which describe portions of the camera right when mentioning the objective fact, for example 'run' speaks to the comparing check which caught the oject."
   ]
  },
  {
   "cell_type": "code",
   "execution_count": 7,
   "metadata": {},
   "outputs": [],
   "source": [
    "data.drop(['objid','run','rerun','camcol','field','specobjid','fiberid'] , axis = 1 , inplace=True)"
   ]
  },
  {
   "cell_type": "code",
   "execution_count": 8,
   "metadata": {},
   "outputs": [
    {
     "data": {
      "text/html": [
       "<div>\n",
       "<style scoped>\n",
       "    .dataframe tbody tr th:only-of-type {\n",
       "        vertical-align: middle;\n",
       "    }\n",
       "\n",
       "    .dataframe tbody tr th {\n",
       "        vertical-align: top;\n",
       "    }\n",
       "\n",
       "    .dataframe thead th {\n",
       "        text-align: right;\n",
       "    }\n",
       "</style>\n",
       "<table border=\"1\" class=\"dataframe\">\n",
       "  <thead>\n",
       "    <tr style=\"text-align: right;\">\n",
       "      <th></th>\n",
       "      <th>ra</th>\n",
       "      <th>dec</th>\n",
       "      <th>u</th>\n",
       "      <th>g</th>\n",
       "      <th>r</th>\n",
       "      <th>i</th>\n",
       "      <th>z</th>\n",
       "      <th>class</th>\n",
       "      <th>redshift</th>\n",
       "      <th>plate</th>\n",
       "      <th>mjd</th>\n",
       "    </tr>\n",
       "  </thead>\n",
       "  <tbody>\n",
       "    <tr>\n",
       "      <th>0</th>\n",
       "      <td>122.472536</td>\n",
       "      <td>29.477546</td>\n",
       "      <td>18.80104</td>\n",
       "      <td>18.79409</td>\n",
       "      <td>19.17904</td>\n",
       "      <td>19.46893</td>\n",
       "      <td>19.62121</td>\n",
       "      <td>STAR</td>\n",
       "      <td>0.000113</td>\n",
       "      <td>4451.0</td>\n",
       "      <td>55537.0</td>\n",
       "    </tr>\n",
       "    <tr>\n",
       "      <th>1</th>\n",
       "      <td>157.220491</td>\n",
       "      <td>38.044462</td>\n",
       "      <td>19.21634</td>\n",
       "      <td>17.36450</td>\n",
       "      <td>16.39222</td>\n",
       "      <td>15.96160</td>\n",
       "      <td>15.62490</td>\n",
       "      <td>GALAXY</td>\n",
       "      <td>0.107083</td>\n",
       "      <td>1428.0</td>\n",
       "      <td>52998.0</td>\n",
       "    </tr>\n",
       "    <tr>\n",
       "      <th>2</th>\n",
       "      <td>128.426499</td>\n",
       "      <td>22.244187</td>\n",
       "      <td>17.58285</td>\n",
       "      <td>16.66683</td>\n",
       "      <td>16.37511</td>\n",
       "      <td>16.23573</td>\n",
       "      <td>16.03283</td>\n",
       "      <td>GALAXY</td>\n",
       "      <td>0.024777</td>\n",
       "      <td>1929.0</td>\n",
       "      <td>53349.0</td>\n",
       "    </tr>\n",
       "    <tr>\n",
       "      <th>3</th>\n",
       "      <td>148.311910</td>\n",
       "      <td>3.603649</td>\n",
       "      <td>19.49339</td>\n",
       "      <td>18.02611</td>\n",
       "      <td>17.21924</td>\n",
       "      <td>16.73868</td>\n",
       "      <td>16.43414</td>\n",
       "      <td>GALAXY</td>\n",
       "      <td>0.091564</td>\n",
       "      <td>571.0</td>\n",
       "      <td>52286.0</td>\n",
       "    </tr>\n",
       "    <tr>\n",
       "      <th>4</th>\n",
       "      <td>188.615906</td>\n",
       "      <td>0.966501</td>\n",
       "      <td>19.11787</td>\n",
       "      <td>18.80892</td>\n",
       "      <td>18.65386</td>\n",
       "      <td>18.43037</td>\n",
       "      <td>18.44886</td>\n",
       "      <td>QSO</td>\n",
       "      <td>1.528742</td>\n",
       "      <td>290.0</td>\n",
       "      <td>51941.0</td>\n",
       "    </tr>\n",
       "  </tbody>\n",
       "</table>\n",
       "</div>"
      ],
      "text/plain": [
       "           ra        dec         u         g         r         i         z  \\\n",
       "0  122.472536  29.477546  18.80104  18.79409  19.17904  19.46893  19.62121   \n",
       "1  157.220491  38.044462  19.21634  17.36450  16.39222  15.96160  15.62490   \n",
       "2  128.426499  22.244187  17.58285  16.66683  16.37511  16.23573  16.03283   \n",
       "3  148.311910   3.603649  19.49339  18.02611  17.21924  16.73868  16.43414   \n",
       "4  188.615906   0.966501  19.11787  18.80892  18.65386  18.43037  18.44886   \n",
       "\n",
       "    class  redshift   plate      mjd  \n",
       "0    STAR  0.000113  4451.0  55537.0  \n",
       "1  GALAXY  0.107083  1428.0  52998.0  \n",
       "2  GALAXY  0.024777  1929.0  53349.0  \n",
       "3  GALAXY  0.091564   571.0  52286.0  \n",
       "4     QSO  1.528742   290.0  51941.0  "
      ]
     },
     "execution_count": 8,
     "metadata": {},
     "output_type": "execute_result"
    }
   ],
   "source": [
    "data.head()"
   ]
  },
  {
   "cell_type": "markdown",
   "metadata": {},
   "source": [
    "* Check null values in *data*"
   ]
  },
  {
   "cell_type": "code",
   "execution_count": 15,
   "metadata": {},
   "outputs": [
    {
     "data": {
      "text/plain": [
       "ra          503\n",
       "dec         514\n",
       "u           453\n",
       "g           498\n",
       "r           536\n",
       "i           506\n",
       "z           518\n",
       "class         0\n",
       "redshift    517\n",
       "plate       510\n",
       "mjd         503\n",
       "dtype: int64"
      ]
     },
     "execution_count": 15,
     "metadata": {},
     "output_type": "execute_result"
    }
   ],
   "source": [
    "data.isnull().sum()"
   ]
  },
  {
   "cell_type": "markdown",
   "metadata": {},
   "source": [
    "* Data Visualization"
   ]
  },
  {
   "cell_type": "code",
   "execution_count": 10,
   "metadata": {},
   "outputs": [
    {
     "data": {
      "text/plain": [
       "<AxesSubplot:xlabel='class', ylabel='count'>"
      ]
     },
     "execution_count": 10,
     "metadata": {},
     "output_type": "execute_result"
    },
    {
     "data": {
      "image/png": "[encoded data removed]",
      "text/plain": [
       "<Figure size 576x432 with 1 Axes>"
      ]
     },
     "metadata": {},
     "output_type": "display_data"
    }
   ],
   "source": [
    "sns.set_style('darkgrid')\n",
    "plt.figure(figsize = (8, 6))\n",
    "sns.countplot(data['class'], palette = 'magma')"
   ]
  },
  {
   "cell_type": "code",
   "execution_count": 11,
   "metadata": {},
   "outputs": [
    {
     "data": {
      "text/plain": [
       "<AxesSubplot:>"
      ]
     },
     "execution_count": 11,
     "metadata": {},
     "output_type": "execute_result"
    },
    {
     "data": {
      "image/png": "[encoded data removed]",
      "text/plain": [
       "<Figure size 1152x864 with 2 Axes>"
      ]
     },
     "metadata": {},
     "output_type": "display_data"
    }
   ],
   "source": [
    "plt.figure(figsize = (16, 12))\n",
    "sns.heatmap(data.corr(),annot=True)"
   ]
  },
  {
   "cell_type": "markdown",
   "metadata": {},
   "source": [
    "* Feature Engineering"
   ]
  },
  {
   "cell_type": "markdown",
   "metadata": {},
   "source": [
    "    - In this data we have to deal with missing value  by dropping them (we can drop missing values because their percentage is small comparing to the data total 5058 of 105000).\n",
    "    \n",
    "    - But I will use a pipline  that fill the missing values by the median using SimpleImputer, and Scale the values in columns using MinMaxScaler."
   ]
  },
  {
   "cell_type": "code",
   "execution_count": 16,
   "metadata": {},
   "outputs": [
    {
     "data": {
      "text/plain": [
       "5058"
      ]
     },
     "execution_count": 16,
     "metadata": {},
     "output_type": "execute_result"
    }
   ],
   "source": [
    "sum(data.isnull().sum())"
   ]
  },
  {
   "cell_type": "markdown",
   "metadata": {},
   "source": [
    "* Define X and y\n",
    "* Split the data into training and testing data\n"
   ]
  },
  {
   "cell_type": "code",
   "execution_count": 35,
   "metadata": {},
   "outputs": [],
   "source": [
    "X = data.drop('class',axis=1)\n",
    "y = data['class']"
   ]
  },
  {
   "cell_type": "code",
   "execution_count": 36,
   "metadata": {},
   "outputs": [],
   "source": [
    "X_train, X_test, y_train, y_test = train_test_split(X, y, test_size=0.3, random_state=101)"
   ]
  },
  {
   "cell_type": "markdown",
   "metadata": {},
   "source": [
    "* Define the data columns in a list \n",
    "* Create the pipeline and the ColumnTransformer\n",
    "* Fit and transform on X_train (train data)\n",
    "* transform X_test (test data)"
   ]
  },
  {
   "cell_type": "code",
   "execution_count": 81,
   "metadata": {},
   "outputs": [
    {
     "data": {
      "text/plain": [
       "['ra', 'dec', 'u', 'g', 'r', 'i', 'z', 'redshift', 'plate', 'mjd']"
      ]
     },
     "execution_count": 81,
     "metadata": {},
     "output_type": "execute_result"
    }
   ],
   "source": [
    "numeric_columns = list(X_train.columns)\n",
    "numeric_columns\n"
   ]
  },
  {
   "cell_type": "code",
   "execution_count": 83,
   "metadata": {},
   "outputs": [],
   "source": [
    "numerical_pipeline = Pipeline(steps=[(\"min_max_scaler\", MinMaxScaler()),\n",
    "                                     ('num_imputer',SimpleImputer(strategy='median'))])"
   ]
  },
  {
   "cell_type": "code",
   "execution_count": 84,
   "metadata": {},
   "outputs": [],
   "source": [
    "column_transformer = ColumnTransformer([\n",
    "    ('numeric_transformer', numerical_pipeline, numeric_columns)\n",
    "    ])"
   ]
  },
  {
   "cell_type": "code",
   "execution_count": 85,
   "metadata": {},
   "outputs": [],
   "source": [
    "X_train_new = column_transformer.fit_transform(X_train)"
   ]
  },
  {
   "cell_type": "code",
   "execution_count": 86,
   "metadata": {},
   "outputs": [
    {
     "data": {
      "text/plain": [
       "array([0, 0, 0, 0, 0, 0, 0, 0, 0, 0])"
      ]
     },
     "execution_count": 86,
     "metadata": {},
     "output_type": "execute_result"
    }
   ],
   "source": [
    "\n",
    "sum(np.isnan(X_train_new))"
   ]
  },
  {
   "cell_type": "code",
   "execution_count": 87,
   "metadata": {},
   "outputs": [],
   "source": [
    "X_test_new = column_transformer.transform(X_test)"
   ]
  },
  {
   "cell_type": "markdown",
   "metadata": {},
   "source": [
    "* Train the model "
   ]
  },
  {
   "cell_type": "code",
   "execution_count": 91,
   "metadata": {},
   "outputs": [
    {
     "name": "stdout",
     "output_type": "stream",
     "text": [
      "Classification Report: \n",
      "               precision    recall  f1-score   support\n",
      "\n",
      "      GALAXY       0.99      0.99      0.99     15304\n",
      "         QSO       0.98      0.96      0.97      4336\n",
      "        STAR       0.99      1.00      0.99     11860\n",
      "\n",
      "    accuracy                           0.99     31500\n",
      "   macro avg       0.99      0.98      0.99     31500\n",
      "weighted avg       0.99      0.99      0.99     31500\n",
      "\n",
      "Training Score:  0.9999591836734694\n",
      "Testing Score:  0.9886666666666667\n"
     ]
    }
   ],
   "source": [
    "rf = RandomForestClassifier()\n",
    "rf.fit(X_train_new, y_train)\n",
    "y_pred = rf.predict(X_test_new)\n",
    "print('Classification Report: \\n', classification_report(y_test, y_pred))\n",
    "#print('Confusion Matrix: \\n', confusion_matrix(y_test, y_pred))\n",
    "rf_train_acc = rf.score(X_train_new, y_train)\n",
    "print('Training Score: ', rf_train_acc)\n",
    "rf_test_acc = rf.score(X_test_new, y_test)\n",
    "print('Testing Score: ', rf_test_acc)"
   ]
  },
  {
   "cell_type": "code",
   "execution_count": 92,
   "metadata": {},
   "outputs": [
    {
     "data": {
      "text/plain": [
       "<sklearn.metrics._plot.confusion_matrix.ConfusionMatrixDisplay at 0x270967f7940>"
      ]
     },
     "execution_count": 92,
     "metadata": {},
     "output_type": "execute_result"
    },
    {
     "data": {
      "image/png": "[encoded data removed]",
      "text/plain": [
       "<Figure size 432x288 with 2 Axes>"
      ]
     },
     "metadata": {
      "needs_background": "light"
     },
     "output_type": "display_data"
    }
   ],
   "source": [
    "from sklearn.metrics import ConfusionMatrixDisplay\n",
    "\n",
    "ConfusionMatrixDisplay.from_predictions(y_test, y_pred, normalize=None)"
   ]
  },
  {
   "cell_type": "code",
   "execution_count": 93,
   "metadata": {},
   "outputs": [],
   "source": [
    "import pickle\n",
    "\n",
    "filename = 'randomForest.pkl'\n",
    "pickle.dump(rf, open(filename, \"wb\"))\n"
   ]
  },
  {
   "cell_type": "code",
   "execution_count": 94,
   "metadata": {},
   "outputs": [
    {
     "data": {
      "text/plain": [
       "RandomForestClassifier()"
      ]
     },
     "execution_count": 94,
     "metadata": {},
     "output_type": "execute_result"
    }
   ],
   "source": [
    "pd.read_pickle('randomForest.pkl')"
   ]
  },
  {
   "cell_type": "code",
   "execution_count": null,
   "metadata": {},
   "outputs": [],
   "source": []
  }
 ],
 "metadata": {
  "kernelspec": {
   "display_name": "Python 3.9.7 ('base')",
   "language": "python",
   "name": "python3"
  },
  "language_info": {
   "codemirror_mode": {
    "name": "ipython",
    "version": 3
   },
   "file_extension": ".py",
   "mimetype": "text/x-python",
   "name": "python",
   "nbconvert_exporter": "python",
   "pygments_lexer": "ipython3",
   "version": "3.9.7"
  },
  "orig_nbformat": 4,
  "vscode": {
   "interpreter": {
    "hash": "f89788d0e05fd21bd99a676e754a0498b32cf6e284139d9309e5c99e1be2232d"
   }
  }
 },
 "nbformat": 4,
 "nbformat_minor": 2
}
